{
 "cells": [
  {
   "cell_type": "code",
   "execution_count": 358,
   "id": "2b7656eb",
   "metadata": {},
   "outputs": [],
   "source": [
    "import numpy as np\n",
    "from numpy import random\n",
    "from numpy.lib.scimath import sqrt\n",
    "import matplotlib.pyplot as plt\n",
    "from statistics import mean\n",
    "from scipy.stats import pearsonr\n",
    "from scipy.stats import chi2\n",
    "from scipy import stats"
   ]
  },
  {
   "cell_type": "code",
   "execution_count": 174,
   "id": "5651ac23",
   "metadata": {},
   "outputs": [],
   "source": [
    "def get_without_zeros(system_of_random_vars, cumulative_X):\n",
    "    zeroes_indexes = []\n",
    "    for i in range(len(system_of_random_vars)):\n",
    "        for j in range(len(system_of_random_vars[0])):\n",
    "            if system_of_random_vars[i, j] == 0:\n",
    "                zeroes_indexes.append([i, j])\n",
    "\n",
    "    indexes_to_skip = []\n",
    "    for i in range(len(cumulative_X)):\n",
    "        index_X = i // X_size\n",
    "        index_Y = i % Y_size\n",
    "        if zeroes_indexes.count([index_X, index_Y]):\n",
    "            indexes_to_skip.append(i)\n",
    "\n",
    "    indexes = []\n",
    "    for i in range(len(cumulative_X)):\n",
    "        indexes.append(i)\n",
    "    \n",
    "    return set(indexes) - set(indexes_to_skip)"
   ]
  },
  {
   "cell_type": "code",
   "execution_count": 197,
   "id": "102acb84",
   "metadata": {},
   "outputs": [],
   "source": [
    "def calculate_indexes(X_set, Y_set, empirical_matrix):\n",
    "    index_X = j // X_size \n",
    "    index_Y = j % Y_size\n",
    "    X_set.append(index_X)\n",
    "    Y_set.append(index_Y)\n",
    "    empirical_matrix[index_X, index_Y] += 1"
   ]
  },
  {
   "cell_type": "code",
   "execution_count": 362,
   "id": "863eb61a",
   "metadata": {
    "scrolled": true
   },
   "outputs": [
    {
     "name": "stdout",
     "output_type": "stream",
     "text": [
      "Empirical matrix:\n",
      " [[0.      0.10988 0.11889 0.03026]\n",
      " [0.      0.12957 0.09155 0.0205 ]\n",
      " [0.02007 0.10959 0.08039 0.01019]\n",
      " [0.03026 0.11078 0.04785 0.09022]]\n",
      "\n",
      "Theoretical matrix:\n",
      " [[0.   0.11 0.12 0.03]\n",
      " [0.   0.13 0.09 0.02]\n",
      " [0.02 0.11 0.08 0.01]\n",
      " [0.03 0.11 0.05 0.09]]\n"
     ]
    }
   ],
   "source": [
    "system_of_random_vars = np.array([[0, 0.11, 0.12, 0.03],\n",
    "                                     [0, 0.13, 0.09, 0.02],\n",
    "                                     [0.02, 0.11, 0.08, 0.01],\n",
    "                                     [0.03, 0.11, 0.05, 0.09]])\n",
    "\n",
    "num_of_elements = 100000\n",
    "X = np.array([0, 1, 2, 3])\n",
    "Y = np.array([0, 1, 2, 3])\n",
    "X_size = len(X)\n",
    "Y_size = len(Y)\n",
    "\n",
    "empirical_matrix = np.zeros((len(system_of_random_vars), len(system_of_random_vars[0])))\n",
    "\n",
    "system_of_RVs_X = system_of_random_vars.flatten(order='C')\n",
    "cumulative_X = np.cumsum(system_of_RVs_X)\n",
    "\n",
    "cumulative_X_cleared = get_without_zeros(system_of_random_vars, cumulative_X)\n",
    "\n",
    "X_set = []\n",
    "Y_set = []\n",
    "\n",
    "for i in range(num_of_elements):\n",
    "    random_value = np.random.uniform()\n",
    "    for j in cumulative_X_cleared:\n",
    "        if j == 0:\n",
    "            calculate_indexes(X_set, Y_set, empirical_matrix)\n",
    "            break\n",
    "        elif random_value > cumulative_X[j-1] and random_value <= cumulative_X[j]:\n",
    "            calculate_indexes(X_set, Y_set, empirical_matrix)\n",
    "            break\n",
    "\n",
    "for i in range(len(empirical_matrix)):\n",
    "    for j in range(len(empirical_matrix[0])):\n",
    "        empirical_matrix[i, j] = empirical_matrix[i, j] / num_of_elements\n",
    "    \n",
    "print(f\"Empirical matrix:\\n {empirical_matrix}\")\n",
    "print(f\"\\nTheoretical matrix:\\n {system_of_random_vars}\")"
   ]
  },
  {
   "cell_type": "code",
   "execution_count": 214,
   "id": "d76dc81d",
   "metadata": {},
   "outputs": [
    {
     "data": {
      "text/plain": [
       "Text(0.5, 0, 'Y set')"
      ]
     },
     "execution_count": 214,
     "metadata": {},
     "output_type": "execute_result"
    },
    {
     "data": {
      "image/png": "[encoded data removed]",
      "text/plain": [
       "<Figure size 432x288 with 2 Axes>"
      ]
     },
     "metadata": {
      "needs_background": "light"
     },
     "output_type": "display_data"
    }
   ],
   "source": [
    "fig, axs = plt.subplots(1, 2, sharey=True, tight_layout=True)\n",
    "\n",
    "axs[0].hist(X_set, label=\"X set\", color='green')\n",
    "axs[1].hist(Y_set, label=\"Y set\")\n",
    "axs[0].set_xlabel('X set')\n",
    "axs[1].set_xlabel('Y set')"
   ]
  },
  {
   "cell_type": "code",
   "execution_count": 215,
   "id": "4f6406ff",
   "metadata": {},
   "outputs": [
    {
     "data": {
      "image/png": "[encoded data removed]",
      "text/plain": [
       "<Figure size 432x288 with 1 Axes>"
      ]
     },
     "metadata": {
      "needs_background": "light"
     },
     "output_type": "display_data"
    }
   ],
   "source": [
    "plt.title('XY histogram')\n",
    "plt.hist2d(X_set, Y_set)\n",
    "plt.show()"
   ]
  },
  {
   "cell_type": "code",
   "execution_count": 297,
   "id": "a6a3876a",
   "metadata": {},
   "outputs": [],
   "source": [
    "def calculate_mean(sample, values, probabilities_theor, probabilities_emp):\n",
    "    empirical_mean = sum([value * pi for value, pi in zip(values, probabilities_emp)])\n",
    "    theoretical_mean = sum([value * pi for value, pi in zip(values, probabilities_theor)])\n",
    "    return empirical_mean, theoretical_mean"
   ]
  },
  {
   "cell_type": "code",
   "execution_count": 289,
   "id": "e13c783b",
   "metadata": {},
   "outputs": [],
   "source": [
    "def calculate_variance(sample, values, empirical_mean, theoretical_mean):\n",
    "    empirical_variance = sum([(x - empirical_mean) ** 2 for x in sample]) / (len(sample)-1)\n",
    "    theoretical_variance = sum([(x - theoretical_mean) ** 2 for x in sample]) / (len(sample)-1)\n",
    "    \n",
    "    return empirical_variance, theoretical_variance"
   ]
  },
  {
   "cell_type": "code",
   "execution_count": 270,
   "id": "e17366bf",
   "metadata": {},
   "outputs": [],
   "source": [
    "def calc_confidence_interval_mean(empirical_variance, empirical_mean, num_of_elements):\n",
    "    student_coeff = 2.5758293\n",
    "    lower_limit = empirical_mean - student_coeff* sqrt(empirical_variance) / sqrt(num_of_elements)\n",
    "    upper_limit = empirical_mean + student_coeff * sqrt(empirical_variance) / sqrt(num_of_elements)\n",
    "    return lower_limit, upper_limit"
   ]
  },
  {
   "cell_type": "code",
   "execution_count": 263,
   "id": "15ea2dac",
   "metadata": {},
   "outputs": [],
   "source": [
    "def calc_confidence_interval_variance(variance, num_of_elements, alpha):\n",
    "    lower_limit = (num_of_elements - 1) * variance / stats.chi2.ppf(1 - alpha / 2, num_of_elements - 1)\n",
    "    upper_limit = (num_of_elements - 1) * variance / stats.chi2.ppf(alpha / 2, num_of_elements - 1)\n",
    "    return lower_limit, upper_limit"
   ]
  },
  {
   "cell_type": "code",
   "execution_count": 364,
   "id": "054828c7",
   "metadata": {},
   "outputs": [],
   "source": [
    "def calculate_correlation(X_sample, Y_sample):\n",
    "    X_mean = mean(X_sample)\n",
    "    Y_mean = mean(Y_sample)\n",
    "    variance_X = sum([(x - X_mean) ** 2 for x in X_sample]) / (len(X_sample) - 1)\n",
    "    variance_Y = sum([(x - Y_mean) ** 2 for x in Y_sample]) / (len(Y_sample) - 1)\n",
    "\n",
    "    corr_coefficient = np.sum([(a - X_mean) * (b - Y_mean) for a, b in zip(X_sample, Y_sample)]) \\\n",
    "        / (len(X_sample)) / (sqrt(variance_X) * sqrt(variance_Y))\n",
    "\n",
    "    return corr_coefficient"
   ]
  },
  {
   "cell_type": "code",
   "execution_count": 355,
   "id": "c932f1d3",
   "metadata": {},
   "outputs": [],
   "source": [
    "def calculate_pearson_criterion(system_of_random_vars, empirical_matrix, num_of_elements):\n",
    "    chi_squared = 0\n",
    "    for i in range(len(system_of_random_vars[0])):\n",
    "        chi_squared += (sum(np.array(system_of_random_vars)[:, i]) -\n",
    "                        sum(np.array(empirical_matrix)[:, i])) ** 2 / sum(\n",
    "            np.array(empirical_matrix)[:, i])\n",
    "    return chi_squared"
   ]
  },
  {
   "cell_type": "code",
   "execution_count": 367,
   "id": "886a0943",
   "metadata": {},
   "outputs": [
    {
     "name": "stdout",
     "output_type": "stream",
     "text": [
      "Empirical mean X: 1.5194299999999998\n",
      "Theoretical mean X: 1.52\n"
     ]
    }
   ],
   "source": [
    "empirical_mean_X, theoretical_mean_X = calculate_mean(X_set, X, system_of_random_vars.sum(axis=1), empirical_matrix.sum(axis=1))\n",
    "print(f'Empirical mean X: {empirical_mean_X}')\n",
    "print(f'Theoretical mean X: {theoretical_mean_X}')"
   ]
  },
  {
   "cell_type": "code",
   "execution_count": 368,
   "id": "b971fad9",
   "metadata": {},
   "outputs": [
    {
     "name": "stdout",
     "output_type": "stream",
     "text": [
      "Empirical mean Y: 1.59069\n",
      "Theoretical mean Y: 1.5899999999999999\n"
     ]
    }
   ],
   "source": [
    "empirical_mean_Y, theoretical_mean_Y = calculate_mean(Y_set, Y, system_of_random_vars.sum(axis=0), empirical_matrix.sum(axis=0))\n",
    "print(f'Empirical mean Y: {empirical_mean_Y}')\n",
    "print(f'Theoretical mean Y: {theoretical_mean_Y}')"
   ]
  },
  {
   "cell_type": "code",
   "execution_count": 369,
   "id": "161f3d8a",
   "metadata": {},
   "outputs": [
    {
     "name": "stdout",
     "output_type": "stream",
     "text": [
      "Empirical variance: 1.331109871098125\n",
      "Theoretical variance: 1.3308959089592656\n",
      "\n",
      "Empirical confidence interval for mean: (1.5821022468988604, 1.60089775310114)\n",
      "Empirical confidence interval for variance: (1.3159018872200292, 1.3465711305699641)\n",
      "\n",
      "Theoretical confidence interval for mean: (1.5821022468988604, 1.60089775310114)\n",
      "Theoretical confidence interval for variance: (1.3159018872200292, 1.3465711305699641)\n"
     ]
    }
   ],
   "source": [
    "empirical_variance, theoretical_variance = calculate_variance(X_set, X, empirical_mean, theoretical_mean)\n",
    "\n",
    "print(f'Empirical variance: {empirical_variance}')\n",
    "print(f'Theoretical variance: {theoretical_variance}')\n",
    "\n",
    "interval_variance_emp = calc_confidence_interval_variance(empirical_variance, num_of_elements, 0.01)\n",
    "interval_mean_emp = calc_confidence_interval_mean(empirical_variance, empirical_mean, num_of_elements)\n",
    "\n",
    "print(f'\\nEmpirical confidence interval for mean: {interval_mean_emp}')\n",
    "print(f'Empirical confidence interval for variance: {interval_variance_emp}')\n",
    "\n",
    "interval_variance_theor = calc_confidence_interval_variance(theoretical_variance, num_of_elements, 0.01)\n",
    "interval_mean_theor = calc_confidence_interval_mean(theoretical_variance, theoretical_mean, num_of_elements)\n",
    "\n",
    "print(f'\\nTheoretical confidence interval for mean: {interval_mean_emp}')\n",
    "print(f'Theoretical confidence interval for variance: {interval_variance_emp}')"
   ]
  },
  {
   "cell_type": "code",
   "execution_count": 370,
   "id": "472be947",
   "metadata": {},
   "outputs": [
    {
     "name": "stdout",
     "output_type": "stream",
     "text": [
      "Correlation coefficient: -0.010244298954917377\n"
     ]
    }
   ],
   "source": [
    "corr_coefficient = calculate_correlation(X_set, Y_set)\n",
    "\n",
    "print(f'Correlation coefficient: {corr_coefficient}')"
   ]
  },
  {
   "cell_type": "code",
   "execution_count": 371,
   "id": "cc764d86",
   "metadata": {},
   "outputs": [
    {
     "name": "stdout",
     "output_type": "stream",
     "text": [
      "Correlation coefficient: -0.010244401398934427\n"
     ]
    }
   ],
   "source": [
    "correlation_coefficient, _ = pearsonr(X_set, Y_set)\n",
    "\n",
    "print(f'Correlation coefficient: {correlation_coefficient}')"
   ]
  },
  {
   "cell_type": "code",
   "execution_count": 372,
   "id": "5d9c7037",
   "metadata": {},
   "outputs": [
    {
     "name": "stdout",
     "output_type": "stream",
     "text": [
      "Valid!\n"
     ]
    }
   ],
   "source": [
    "chi_squared = stats.chi2.ppf(0.01, 1)\n",
    "pearson_value = calculate_pearson_criterion(system_of_random_vars, empirical_matrix, num_of_elements)\n",
    "\n",
    "if (pearson_value < chi_squared):\n",
    "    print('Valid!')\n",
    "else:\n",
    "    print('Null hypothesis is rejected')"
   ]
  }
 ],
 "metadata": {
  "kernelspec": {
   "display_name": "Python 3",
   "language": "python",
   "name": "python3"
  },
  "language_info": {
   "codemirror_mode": {
    "name": "ipython",
    "version": 3
   },
   "file_extension": ".py",
   "mimetype": "text/x-python",
   "name": "python",
   "nbconvert_exporter": "python",
   "pygments_lexer": "ipython3",
   "version": "3.8.8"
  }
 },
 "nbformat": 4,
 "nbformat_minor": 5
}
