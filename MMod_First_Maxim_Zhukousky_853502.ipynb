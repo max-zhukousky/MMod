{
 "cells": [
  {
   "cell_type": "code",
   "execution_count": 5,
   "id": "2b7656eb",
   "metadata": {},
   "outputs": [],
   "source": [
    "import numpy as np"
   ]
  },
  {
   "cell_type": "code",
   "execution_count": 7,
   "id": "ad2846b2",
   "metadata": {},
   "outputs": [],
   "source": [
    "matrix = np.array([[0, 0.11, 0.12, 0.03],\n",
    "         [0, 0.13, 0.09, 0.02],\n",
    "         [0.02, 0.11, 0.08, 0.01],\n",
    "         [0.03, 0.11, 0.05, 0.09]])"
   ]
  },
  {
   "cell_type": "code",
   "execution_count": 14,
   "id": "8978d024",
   "metadata": {},
   "outputs": [
    {
     "name": "stdout",
     "output_type": "stream",
     "text": [
      "[0.   0.11 0.12 0.03 0.   0.13 0.09 0.02 0.02 0.11 0.08 0.01 0.03 0.11\n",
      " 0.05 0.09]\n"
     ]
    },
    {
     "data": {
      "text/plain": [
       "[0.09,\n",
       " 0.11,\n",
       " 0.22999999999999998,\n",
       " 0.15,\n",
       " 0.03,\n",
       " 0.13,\n",
       " 0.22,\n",
       " 0.11,\n",
       " 0.04,\n",
       " 0.13,\n",
       " 0.19,\n",
       " 0.09,\n",
       " 0.04,\n",
       " 0.14,\n",
       " 0.16,\n",
       " 0.14]"
      ]
     },
     "execution_count": 14,
     "metadata": {},
     "output_type": "execute_result"
    }
   ],
   "source": [
    "n = len(matrix)\n",
    "m = len(matrix[0])\n",
    "\n",
    "num_of_parts = n * m\n",
    "\n",
    "matrix_flattened = matrix.flatten(order='C')\n",
    "\n",
    "print(matrix_flattened)\n",
    "\n",
    "\n",
    "matrix_cumulative = []\n",
    "for i in range(len(matrix_flattened)):\n",
    "    if matrix_flattened[i-1] == None:\n",
    "        continue\n",
    "    matrix_cumulative.append(matrix_flattened[i] + matrix_flattened[i-1])\n",
    "    \n",
    "matrix_cumulative"
   ]
  }
 ],
 "metadata": {
  "kernelspec": {
   "display_name": "Python 3 (ipykernel)",
   "language": "python",
   "name": "python3"
  },
  "language_info": {
   "codemirror_mode": {
    "name": "ipython",
    "version": 3
   },
   "file_extension": ".py",
   "mimetype": "text/x-python",
   "name": "python",
   "nbconvert_exporter": "python",
   "pygments_lexer": "ipython3",
   "version": "3.8.8"
  }
 },
 "nbformat": 4,
 "nbformat_minor": 5
}
